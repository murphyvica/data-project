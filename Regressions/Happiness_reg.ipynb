{
 "cells": [
  {
   "cell_type": "code",
   "execution_count": 1,
   "id": "f9a62b84-941d-4d4d-b6f8-f3df60abd3ae",
   "metadata": {},
   "outputs": [],
   "source": [
    "import pandas as pd\n",
    "import numpy as np\n",
    "from sklearn.linear_model import LinearRegression\n",
    "from sklearn.linear_model import LogisticRegression"
   ]
  },
  {
   "cell_type": "code",
   "execution_count": 2,
   "id": "a046a288-32c1-472c-aa9e-7ae6d75a2b70",
   "metadata": {},
   "outputs": [
    {
     "data": {
      "text/html": [
       "<div>\n",
       "<style scoped>\n",
       "    .dataframe tbody tr th:only-of-type {\n",
       "        vertical-align: middle;\n",
       "    }\n",
       "\n",
       "    .dataframe tbody tr th {\n",
       "        vertical-align: top;\n",
       "    }\n",
       "\n",
       "    .dataframe thead th {\n",
       "        text-align: right;\n",
       "    }\n",
       "</style>\n",
       "<table border=\"1\" class=\"dataframe\">\n",
       "  <thead>\n",
       "    <tr style=\"text-align: right;\">\n",
       "      <th></th>\n",
       "      <th>Country Name</th>\n",
       "      <th>Regional Indicator</th>\n",
       "      <th>Year</th>\n",
       "      <th>Life Ladder</th>\n",
       "      <th>Log GDP Per Capita</th>\n",
       "      <th>Social Support</th>\n",
       "      <th>Healthy Life Expectancy At Birth</th>\n",
       "      <th>Freedom To Make Life Choices</th>\n",
       "      <th>Generosity</th>\n",
       "      <th>Perceptions Of Corruption</th>\n",
       "      <th>Positive Affect</th>\n",
       "      <th>Negative Affect</th>\n",
       "      <th>Confidence In National Government</th>\n",
       "    </tr>\n",
       "  </thead>\n",
       "  <tbody>\n",
       "    <tr>\n",
       "      <th>0</th>\n",
       "      <td>Afghanistan</td>\n",
       "      <td>South Asia</td>\n",
       "      <td>2008</td>\n",
       "      <td>3.723590</td>\n",
       "      <td>7.350416</td>\n",
       "      <td>0.450662</td>\n",
       "      <td>50.500000</td>\n",
       "      <td>0.718114</td>\n",
       "      <td>0.167652</td>\n",
       "      <td>0.881686</td>\n",
       "      <td>0.414297</td>\n",
       "      <td>0.258195</td>\n",
       "      <td>0.612072</td>\n",
       "    </tr>\n",
       "    <tr>\n",
       "      <th>1</th>\n",
       "      <td>Afghanistan</td>\n",
       "      <td>South Asia</td>\n",
       "      <td>2009</td>\n",
       "      <td>4.401778</td>\n",
       "      <td>7.508646</td>\n",
       "      <td>0.552308</td>\n",
       "      <td>50.799999</td>\n",
       "      <td>0.678896</td>\n",
       "      <td>0.190809</td>\n",
       "      <td>0.850035</td>\n",
       "      <td>0.481421</td>\n",
       "      <td>0.237092</td>\n",
       "      <td>0.611545</td>\n",
       "    </tr>\n",
       "    <tr>\n",
       "      <th>2</th>\n",
       "      <td>Afghanistan</td>\n",
       "      <td>South Asia</td>\n",
       "      <td>2010</td>\n",
       "      <td>4.758381</td>\n",
       "      <td>7.613900</td>\n",
       "      <td>0.539075</td>\n",
       "      <td>51.099998</td>\n",
       "      <td>0.600127</td>\n",
       "      <td>0.121316</td>\n",
       "      <td>0.706766</td>\n",
       "      <td>0.516907</td>\n",
       "      <td>0.275324</td>\n",
       "      <td>0.299357</td>\n",
       "    </tr>\n",
       "    <tr>\n",
       "      <th>3</th>\n",
       "      <td>Afghanistan</td>\n",
       "      <td>South Asia</td>\n",
       "      <td>2011</td>\n",
       "      <td>3.831719</td>\n",
       "      <td>7.581259</td>\n",
       "      <td>0.521104</td>\n",
       "      <td>51.400002</td>\n",
       "      <td>0.495901</td>\n",
       "      <td>0.163571</td>\n",
       "      <td>0.731109</td>\n",
       "      <td>0.479835</td>\n",
       "      <td>0.267175</td>\n",
       "      <td>0.307386</td>\n",
       "    </tr>\n",
       "    <tr>\n",
       "      <th>4</th>\n",
       "      <td>Afghanistan</td>\n",
       "      <td>South Asia</td>\n",
       "      <td>2012</td>\n",
       "      <td>3.782938</td>\n",
       "      <td>7.660506</td>\n",
       "      <td>0.520637</td>\n",
       "      <td>51.700001</td>\n",
       "      <td>0.530935</td>\n",
       "      <td>0.237588</td>\n",
       "      <td>0.775620</td>\n",
       "      <td>0.613513</td>\n",
       "      <td>0.267919</td>\n",
       "      <td>0.435440</td>\n",
       "    </tr>\n",
       "  </tbody>\n",
       "</table>\n",
       "</div>"
      ],
      "text/plain": [
       "  Country Name Regional Indicator  Year  Life Ladder  Log GDP Per Capita  \\\n",
       "0  Afghanistan         South Asia  2008     3.723590            7.350416   \n",
       "1  Afghanistan         South Asia  2009     4.401778            7.508646   \n",
       "2  Afghanistan         South Asia  2010     4.758381            7.613900   \n",
       "3  Afghanistan         South Asia  2011     3.831719            7.581259   \n",
       "4  Afghanistan         South Asia  2012     3.782938            7.660506   \n",
       "\n",
       "   Social Support  Healthy Life Expectancy At Birth  \\\n",
       "0        0.450662                         50.500000   \n",
       "1        0.552308                         50.799999   \n",
       "2        0.539075                         51.099998   \n",
       "3        0.521104                         51.400002   \n",
       "4        0.520637                         51.700001   \n",
       "\n",
       "   Freedom To Make Life Choices  Generosity  Perceptions Of Corruption  \\\n",
       "0                      0.718114    0.167652                   0.881686   \n",
       "1                      0.678896    0.190809                   0.850035   \n",
       "2                      0.600127    0.121316                   0.706766   \n",
       "3                      0.495901    0.163571                   0.731109   \n",
       "4                      0.530935    0.237588                   0.775620   \n",
       "\n",
       "   Positive Affect  Negative Affect  Confidence In National Government  \n",
       "0         0.414297         0.258195                           0.612072  \n",
       "1         0.481421         0.237092                           0.611545  \n",
       "2         0.516907         0.275324                           0.299357  \n",
       "3         0.479835         0.267175                           0.307386  \n",
       "4         0.613513         0.267919                           0.435440  "
      ]
     },
     "execution_count": 2,
     "metadata": {},
     "output_type": "execute_result"
    }
   ],
   "source": [
    "happ = pd.read_csv(\"data/World Happiness Report.csv\")\n",
    "happ.head()"
   ]
  },
  {
   "cell_type": "code",
   "execution_count": 9,
   "id": "64bb608a-577e-42a1-a562-b860ce2c2605",
   "metadata": {},
   "outputs": [],
   "source": [
    "happ = happ.dropna(subset=[\"Log GDP Per Capita\"])"
   ]
  },
  {
   "cell_type": "markdown",
   "id": "bdc76080-51ce-4792-a4b0-2fca0e214992",
   "metadata": {},
   "source": [
    "### Linear Regression\n",
    "\n",
    "The following will try to predict the Life Ladder (estimator of happiness) in a country"
   ]
  },
  {
   "cell_type": "code",
   "execution_count": 10,
   "id": "a6e38876-b539-4fd1-9142-d4c446bfdefe",
   "metadata": {},
   "outputs": [],
   "source": [
    "m = LinearRegression()"
   ]
  },
  {
   "cell_type": "code",
   "execution_count": 11,
   "id": "efe5a96d-c577-478d-b5cf-402979daa411",
   "metadata": {},
   "outputs": [],
   "source": [
    "y = happ[\"Life Ladder\"]\n",
    "X = happ[[\"Log GDP Per Capita\"]]"
   ]
  },
  {
   "cell_type": "code",
   "execution_count": 12,
   "id": "3e9e2324-99b3-4435-b4de-2a4f72a931bd",
   "metadata": {},
   "outputs": [],
   "source": [
    "_ = m.fit(X, y)"
   ]
  },
  {
   "cell_type": "code",
   "execution_count": 13,
   "id": "5b95397a-dfaa-45d6-b27c-3eaf2aa955ed",
   "metadata": {},
   "outputs": [
    {
     "data": {
      "text/plain": [
       "0.6160221863478079"
      ]
     },
     "execution_count": 13,
     "metadata": {},
     "output_type": "execute_result"
    }
   ],
   "source": [
    "m.score(X, y)"
   ]
  },
  {
   "cell_type": "code",
   "execution_count": 14,
   "id": "53061cd7-f476-4f1c-b0d1-93164761cc82",
   "metadata": {},
   "outputs": [
    {
     "data": {
      "text/plain": [
       "array([3.9280321])"
      ]
     },
     "execution_count": 14,
     "metadata": {},
     "output_type": "execute_result"
    }
   ],
   "source": [
    "newX = pd.DataFrame({\"Log GDP Per Capita\": [7.350416]})\n",
    "m.predict(newX)"
   ]
  },
  {
   "cell_type": "code",
   "execution_count": null,
   "id": "532e5b3d-0ed0-46c2-a289-72c8b9cb4cb5",
   "metadata": {},
   "outputs": [],
   "source": []
  }
 ],
 "metadata": {
  "kernelspec": {
   "display_name": "Python 3 (ipykernel)",
   "language": "python",
   "name": "python3"
  },
  "language_info": {
   "codemirror_mode": {
    "name": "ipython",
    "version": 3
   },
   "file_extension": ".py",
   "mimetype": "text/x-python",
   "name": "python",
   "nbconvert_exporter": "python",
   "pygments_lexer": "ipython3",
   "version": "3.9.7"
  }
 },
 "nbformat": 4,
 "nbformat_minor": 5
}
