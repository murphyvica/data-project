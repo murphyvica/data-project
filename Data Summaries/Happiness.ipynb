{
 "cells": [
  {
   "cell_type": "code",
   "execution_count": 18,
   "id": "4efe9750-1eb1-4c18-98ff-86c20943b7b5",
   "metadata": {},
   "outputs": [],
   "source": [
    "import pandas as pd\n",
    "import matplotlib.pyplot as plt"
   ]
  },
  {
   "cell_type": "code",
   "execution_count": 2,
   "id": "717447c3-d01c-474f-a4d4-6f9d1d52dbc5",
   "metadata": {},
   "outputs": [
    {
     "data": {
      "text/html": [
       "<div>\n",
       "<style scoped>\n",
       "    .dataframe tbody tr th:only-of-type {\n",
       "        vertical-align: middle;\n",
       "    }\n",
       "\n",
       "    .dataframe tbody tr th {\n",
       "        vertical-align: top;\n",
       "    }\n",
       "\n",
       "    .dataframe thead th {\n",
       "        text-align: right;\n",
       "    }\n",
       "</style>\n",
       "<table border=\"1\" class=\"dataframe\">\n",
       "  <thead>\n",
       "    <tr style=\"text-align: right;\">\n",
       "      <th></th>\n",
       "      <th>Country Name</th>\n",
       "      <th>Regional Indicator</th>\n",
       "      <th>Year</th>\n",
       "      <th>Life Ladder</th>\n",
       "      <th>Log GDP Per Capita</th>\n",
       "      <th>Social Support</th>\n",
       "      <th>Healthy Life Expectancy At Birth</th>\n",
       "      <th>Freedom To Make Life Choices</th>\n",
       "      <th>Generosity</th>\n",
       "      <th>Perceptions Of Corruption</th>\n",
       "      <th>Positive Affect</th>\n",
       "      <th>Negative Affect</th>\n",
       "      <th>Confidence In National Government</th>\n",
       "    </tr>\n",
       "  </thead>\n",
       "  <tbody>\n",
       "    <tr>\n",
       "      <th>0</th>\n",
       "      <td>Afghanistan</td>\n",
       "      <td>South Asia</td>\n",
       "      <td>2008</td>\n",
       "      <td>3.723590</td>\n",
       "      <td>7.350416</td>\n",
       "      <td>0.450662</td>\n",
       "      <td>50.500000</td>\n",
       "      <td>0.718114</td>\n",
       "      <td>0.167652</td>\n",
       "      <td>0.881686</td>\n",
       "      <td>0.414297</td>\n",
       "      <td>0.258195</td>\n",
       "      <td>0.612072</td>\n",
       "    </tr>\n",
       "    <tr>\n",
       "      <th>1</th>\n",
       "      <td>Afghanistan</td>\n",
       "      <td>South Asia</td>\n",
       "      <td>2009</td>\n",
       "      <td>4.401778</td>\n",
       "      <td>7.508646</td>\n",
       "      <td>0.552308</td>\n",
       "      <td>50.799999</td>\n",
       "      <td>0.678896</td>\n",
       "      <td>0.190809</td>\n",
       "      <td>0.850035</td>\n",
       "      <td>0.481421</td>\n",
       "      <td>0.237092</td>\n",
       "      <td>0.611545</td>\n",
       "    </tr>\n",
       "    <tr>\n",
       "      <th>2</th>\n",
       "      <td>Afghanistan</td>\n",
       "      <td>South Asia</td>\n",
       "      <td>2010</td>\n",
       "      <td>4.758381</td>\n",
       "      <td>7.613900</td>\n",
       "      <td>0.539075</td>\n",
       "      <td>51.099998</td>\n",
       "      <td>0.600127</td>\n",
       "      <td>0.121316</td>\n",
       "      <td>0.706766</td>\n",
       "      <td>0.516907</td>\n",
       "      <td>0.275324</td>\n",
       "      <td>0.299357</td>\n",
       "    </tr>\n",
       "    <tr>\n",
       "      <th>3</th>\n",
       "      <td>Afghanistan</td>\n",
       "      <td>South Asia</td>\n",
       "      <td>2011</td>\n",
       "      <td>3.831719</td>\n",
       "      <td>7.581259</td>\n",
       "      <td>0.521104</td>\n",
       "      <td>51.400002</td>\n",
       "      <td>0.495901</td>\n",
       "      <td>0.163571</td>\n",
       "      <td>0.731109</td>\n",
       "      <td>0.479835</td>\n",
       "      <td>0.267175</td>\n",
       "      <td>0.307386</td>\n",
       "    </tr>\n",
       "    <tr>\n",
       "      <th>4</th>\n",
       "      <td>Afghanistan</td>\n",
       "      <td>South Asia</td>\n",
       "      <td>2012</td>\n",
       "      <td>3.782938</td>\n",
       "      <td>7.660506</td>\n",
       "      <td>0.520637</td>\n",
       "      <td>51.700001</td>\n",
       "      <td>0.530935</td>\n",
       "      <td>0.237588</td>\n",
       "      <td>0.775620</td>\n",
       "      <td>0.613513</td>\n",
       "      <td>0.267919</td>\n",
       "      <td>0.435440</td>\n",
       "    </tr>\n",
       "  </tbody>\n",
       "</table>\n",
       "</div>"
      ],
      "text/plain": [
       "  Country Name Regional Indicator  Year  Life Ladder  Log GDP Per Capita  \\\n",
       "0  Afghanistan         South Asia  2008     3.723590            7.350416   \n",
       "1  Afghanistan         South Asia  2009     4.401778            7.508646   \n",
       "2  Afghanistan         South Asia  2010     4.758381            7.613900   \n",
       "3  Afghanistan         South Asia  2011     3.831719            7.581259   \n",
       "4  Afghanistan         South Asia  2012     3.782938            7.660506   \n",
       "\n",
       "   Social Support  Healthy Life Expectancy At Birth  \\\n",
       "0        0.450662                         50.500000   \n",
       "1        0.552308                         50.799999   \n",
       "2        0.539075                         51.099998   \n",
       "3        0.521104                         51.400002   \n",
       "4        0.520637                         51.700001   \n",
       "\n",
       "   Freedom To Make Life Choices  Generosity  Perceptions Of Corruption  \\\n",
       "0                      0.718114    0.167652                   0.881686   \n",
       "1                      0.678896    0.190809                   0.850035   \n",
       "2                      0.600127    0.121316                   0.706766   \n",
       "3                      0.495901    0.163571                   0.731109   \n",
       "4                      0.530935    0.237588                   0.775620   \n",
       "\n",
       "   Positive Affect  Negative Affect  Confidence In National Government  \n",
       "0         0.414297         0.258195                           0.612072  \n",
       "1         0.481421         0.237092                           0.611545  \n",
       "2         0.516907         0.275324                           0.299357  \n",
       "3         0.479835         0.267175                           0.307386  \n",
       "4         0.613513         0.267919                           0.435440  "
      ]
     },
     "execution_count": 2,
     "metadata": {},
     "output_type": "execute_result"
    }
   ],
   "source": [
    "happ = pd.read_csv(\"data/World Happiness Report.csv\")\n",
    "happ.head()"
   ]
  },
  {
   "cell_type": "code",
   "execution_count": 4,
   "id": "55c664f9-ff71-4bb0-9980-6b763c44ba20",
   "metadata": {},
   "outputs": [
    {
     "data": {
      "text/plain": [
       "(2199, 13)"
      ]
     },
     "execution_count": 4,
     "metadata": {},
     "output_type": "execute_result"
    }
   ],
   "source": [
    "happ.shape"
   ]
  },
  {
   "cell_type": "markdown",
   "id": "e8fc5ca9-c11a-472b-b08d-7de66024746e",
   "metadata": {},
   "source": [
    "### Life Ladder is the dependent variable. All other columns are independent variables"
   ]
  },
  {
   "cell_type": "markdown",
   "id": "b0379522-7ef1-4013-8021-82f3dc714d33",
   "metadata": {},
   "source": [
    "## Number of NA's"
   ]
  },
  {
   "cell_type": "code",
   "execution_count": 6,
   "id": "91f03dda-bf66-48e3-a31c-a2d36bcce33b",
   "metadata": {},
   "outputs": [
    {
     "data": {
      "text/plain": [
       "Country Name                           0\n",
       "Regional Indicator                   112\n",
       "Year                                   0\n",
       "Life Ladder                            0\n",
       "Log GDP Per Capita                    20\n",
       "Social Support                        13\n",
       "Healthy Life Expectancy At Birth      54\n",
       "Freedom To Make Life Choices          33\n",
       "Generosity                            73\n",
       "Perceptions Of Corruption            116\n",
       "Positive Affect                       24\n",
       "Negative Affect                       16\n",
       "Confidence In National Government    361\n",
       "dtype: int64"
      ]
     },
     "execution_count": 6,
     "metadata": {},
     "output_type": "execute_result"
    }
   ],
   "source": [
    "happ.isna().sum()"
   ]
  },
  {
   "cell_type": "markdown",
   "id": "c5165fc4-66d7-49b9-a62f-ce752b35cc67",
   "metadata": {},
   "source": [
    "## Types"
   ]
  },
  {
   "cell_type": "code",
   "execution_count": 7,
   "id": "4218e2ac-6696-4a8f-98fa-9ed6b499d652",
   "metadata": {},
   "outputs": [
    {
     "data": {
      "text/plain": [
       "Country Name                          object\n",
       "Regional Indicator                    object\n",
       "Year                                   int64\n",
       "Life Ladder                          float64\n",
       "Log GDP Per Capita                   float64\n",
       "Social Support                       float64\n",
       "Healthy Life Expectancy At Birth     float64\n",
       "Freedom To Make Life Choices         float64\n",
       "Generosity                           float64\n",
       "Perceptions Of Corruption            float64\n",
       "Positive Affect                      float64\n",
       "Negative Affect                      float64\n",
       "Confidence In National Government    float64\n",
       "dtype: object"
      ]
     },
     "execution_count": 7,
     "metadata": {},
     "output_type": "execute_result"
    }
   ],
   "source": [
    "happ.dtypes"
   ]
  },
  {
   "cell_type": "markdown",
   "id": "06885b60-a6a8-4e9a-ad66-f0e600d95484",
   "metadata": {},
   "source": [
    "## Duplicates"
   ]
  },
  {
   "cell_type": "code",
   "execution_count": 9,
   "id": "fbbaf9a8-d647-4e01-84f6-047854f07c3a",
   "metadata": {},
   "outputs": [
    {
     "data": {
      "text/plain": [
       "0"
      ]
     },
     "execution_count": 9,
     "metadata": {},
     "output_type": "execute_result"
    }
   ],
   "source": [
    "happ.duplicated().sum()"
   ]
  },
  {
   "cell_type": "markdown",
   "id": "988ee111-e7f5-4968-ab52-dabf441f18ea",
   "metadata": {},
   "source": [
    "## Unique Countries"
   ]
  },
  {
   "cell_type": "code",
   "execution_count": 11,
   "id": "279bbe8c-7171-4800-81e9-05ffd97a90b2",
   "metadata": {},
   "outputs": [
    {
     "data": {
      "text/plain": [
       "165"
      ]
     },
     "execution_count": 11,
     "metadata": {},
     "output_type": "execute_result"
    }
   ],
   "source": [
    "len(happ[\"Country Name\"].unique())"
   ]
  },
  {
   "cell_type": "markdown",
   "id": "ea92bf79-45da-41e3-92b7-feef9fcd00de",
   "metadata": {},
   "source": [
    "## Range of Dates"
   ]
  },
  {
   "cell_type": "code",
   "execution_count": 13,
   "id": "7096c801-3373-4e80-9406-621f86221cc3",
   "metadata": {},
   "outputs": [
    {
     "data": {
      "text/plain": [
       "2005"
      ]
     },
     "execution_count": 13,
     "metadata": {},
     "output_type": "execute_result"
    }
   ],
   "source": [
    "happ.Year.min()"
   ]
  },
  {
   "cell_type": "code",
   "execution_count": 14,
   "id": "a9d88659-31c2-42cf-8f1e-0df5797bc605",
   "metadata": {},
   "outputs": [
    {
     "data": {
      "text/plain": [
       "2022"
      ]
     },
     "execution_count": 14,
     "metadata": {},
     "output_type": "execute_result"
    }
   ],
   "source": [
    "happ.Year.max()"
   ]
  },
  {
   "cell_type": "markdown",
   "id": "d5ae1ac5-2f75-4c2d-80e1-5cd024de5a4d",
   "metadata": {},
   "source": [
    "## Distributions"
   ]
  },
  {
   "cell_type": "code",
   "execution_count": 21,
   "id": "23216276-c36f-4f10-9cc9-c5486036fb87",
   "metadata": {},
   "outputs": [
    {
     "data": {
      "image/png": "[encoded data removed]",
      "text/plain": [
       "<Figure size 432x288 with 1 Axes>"
      ]
     },
     "metadata": {
      "needs_background": "light"
     },
     "output_type": "display_data"
    }
   ],
   "source": [
    "_ = plt.hist(happ[\"Social Support\"], bins = 30, edgecolor = \"black\")\n",
    "\n",
    "_ = plt.xlabel(\"Score\")\n",
    "_ = plt.ylabel(\"Frequency\")"
   ]
  },
  {
   "cell_type": "code",
   "execution_count": 22,
   "id": "c12b6939-a336-4c29-b339-a63a916d051a",
   "metadata": {},
   "outputs": [
    {
     "data": {
      "image/png": "[encoded data removed]",
      "text/plain": [
       "<Figure size 432x288 with 1 Axes>"
      ]
     },
     "metadata": {
      "needs_background": "light"
     },
     "output_type": "display_data"
    }
   ],
   "source": [
    "_ = plt.hist(happ[\"Freedom To Make Life Choices\"], bins = 30, edgecolor = \"black\")\n",
    "\n",
    "_ = plt.xlabel(\"Score\")\n",
    "_ = plt.ylabel(\"Frequency\")"
   ]
  },
  {
   "cell_type": "code",
   "execution_count": 23,
   "id": "da1afbb0-e6ad-4141-8cae-8b123d2f075a",
   "metadata": {},
   "outputs": [
    {
     "data": {
      "image/png": "[encoded data removed]",
      "text/plain": [
       "<Figure size 432x288 with 1 Axes>"
      ]
     },
     "metadata": {
      "needs_background": "light"
     },
     "output_type": "display_data"
    }
   ],
   "source": [
    "_ = plt.hist(happ[\"Log GDP Per Capita\"], bins = 30, edgecolor = \"black\")\n",
    "\n",
    "_ = plt.xlabel(\"Score\")\n",
    "_ = plt.ylabel(\"Frequency\")"
   ]
  },
  {
   "cell_type": "code",
   "execution_count": 24,
   "id": "143236d7-b9b6-4d90-bf11-aec0f9539907",
   "metadata": {},
   "outputs": [
    {
     "data": {
      "image/png": "[encoded data removed]",
      "text/plain": [
       "<Figure size 432x288 with 1 Axes>"
      ]
     },
     "metadata": {
      "needs_background": "light"
     },
     "output_type": "display_data"
    }
   ],
   "source": [
    "_ = plt.hist(happ[\"Perceptions Of Corruption\"], bins = 30, edgecolor = \"black\")\n",
    "\n",
    "_ = plt.xlabel(\"Score\")\n",
    "_ = plt.ylabel(\"Frequency\")"
   ]
  },
  {
   "cell_type": "code",
   "execution_count": 25,
   "id": "210238de-1e8e-412c-a734-d4616c2eec74",
   "metadata": {},
   "outputs": [
    {
     "data": {
      "image/png": "[encoded data removed]",
      "text/plain": [
       "<Figure size 432x288 with 1 Axes>"
      ]
     },
     "metadata": {
      "needs_background": "light"
     },
     "output_type": "display_data"
    }
   ],
   "source": [
    "_ = plt.hist(happ[\"Confidence In National Government\"], bins = 30, edgecolor = \"black\")\n",
    "\n",
    "_ = plt.xlabel(\"Score\")\n",
    "_ = plt.ylabel(\"Frequency\")"
   ]
  },
  {
   "cell_type": "code",
   "execution_count": 28,
   "id": "c41ff7dd-5edb-4815-bdc7-d92bfc45fedf",
   "metadata": {},
   "outputs": [
    {
     "data": {
      "image/png": "[encoded data removed]",
      "text/plain": [
       "<Figure size 432x288 with 1 Axes>"
      ]
     },
     "metadata": {
      "needs_background": "light"
     },
     "output_type": "display_data"
    }
   ],
   "source": [
    "_ = plt.hist(happ[\"Healthy Life Expectancy At Birth\"], bins = 30, edgecolor = \"black\")\n",
    "\n",
    "_ = plt.xlabel(\"Age\")\n",
    "_ = plt.ylabel(\"Frequency\")"
   ]
  },
  {
   "cell_type": "code",
   "execution_count": null,
   "id": "3c0ef597-c749-4588-af9e-f5d23e6a8820",
   "metadata": {},
   "outputs": [],
   "source": []
  }
 ],
 "metadata": {
  "kernelspec": {
   "display_name": "Python 3 (ipykernel)",
   "language": "python",
   "name": "python3"
  },
  "language_info": {
   "codemirror_mode": {
    "name": "ipython",
    "version": 3
   },
   "file_extension": ".py",
   "mimetype": "text/x-python",
   "name": "python",
   "nbconvert_exporter": "python",
   "pygments_lexer": "ipython3",
   "version": "3.9.7"
  }
 },
 "nbformat": 4,
 "nbformat_minor": 5
}
